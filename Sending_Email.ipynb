{
 "cells": [
  {
   "cell_type": "markdown",
   "metadata": {},
   "source": [
    "# Automating Python for  Sending Email"
   ]
  },
  {
   "cell_type": "code",
   "execution_count": 3,
   "metadata": {},
   "outputs": [
    {
     "name": "stdout",
     "output_type": "stream",
     "text": [
      "········\n"
     ]
    }
   ],
   "source": [
    "#smtplib for Email Service\n",
    "# gettpass module for getting password\n",
    "# MIMEText module for Email \n",
    "import smtplib\n",
    "import getpass\n",
    "from email.mime.text import MIMEText\n",
    "\n",
    "\n",
    "def send_email():\n",
    "    \n",
    "    sender_address = 'jayantparteti2@gmail.com'\n",
    "    password = getpass.getpass()\n",
    "    subject = 'You have earned a certification from Coding Club India'\n",
    "    msg = '''\n",
    "        Hey Jayant,\n",
    "        Your progress in the course and dedication in the community really stood out. We 've been impressed and we 're excited for you to grow even stronger as a developer !\n",
    "        You have earned a certification from Coding Club India for Data Structures and Algorithms by the Coding Mafia team. Best wishes for your future.\n",
    "\n",
    "        Sincerely, \n",
    "        Jayant Parteti\n",
    "        Coding Club India.\n",
    "    '''\n",
    "#     Enabling SMTP Server\n",
    "#   Server Intialization\n",
    "\n",
    "    server = smtplib.SMTP('smtp.gmail.com',587)\n",
    "    server.starttls()\n",
    "    server.login(sender_address,password)\n",
    "\n",
    "#   draft message body\n",
    "    \n",
    "    msg = MIMEText(msg)\n",
    "    msg['Subject'] = subject\n",
    "    msg['From'] = sender_address\n",
    "    msg['To'] = 'jayantparteti2@gmail.com'\n",
    "    recipents = 'jayantparteti2@gmail.com'\n",
    "#     Set Message as Importance\n",
    "    msg.set_param('importance','high value')\n",
    "    server.sendmail(sender_address,recipents,msg.as_string())\n",
    "send_email()\n"
   ]
  },
  {
   "cell_type": "markdown",
   "metadata": {},
   "source": [
    "# sending Email to Multiple people"
   ]
  },
  {
   "cell_type": "code",
   "execution_count": 1,
   "metadata": {},
   "outputs": [
    {
     "name": "stdout",
     "output_type": "stream",
     "text": [
      "········\n"
     ]
    }
   ],
   "source": [
    "import smtplib\n",
    "import getpass\n",
    "from email.mime.text import MIMEText\n",
    "\n",
    "\n",
    "def send_email():\n",
    "    \n",
    "    sender_address = 'jayantparteti2@gmail.com'\n",
    "    password = getpass.getpass()\n",
    "    subject = 'AI Mafia Machine Learning'\n",
    "    msg = '''\n",
    "        Hey Jayant,\n",
    "        Your progress in the course and dedication in the community really stood out. We 've been impressed and we 're excited for you to grow even stronger as a developer !\n",
    "        You have earned a certification from Coding Club India for Data Structures and Algorithms by the Coding Mafia team. Best wishes for your future.\n",
    "\n",
    "        Sincerely, \n",
    "        Jayant Parteti\n",
    "        Coding Club India.\n",
    "    '''\n",
    "#     Enabling SMTP Server\n",
    "#   Server Intialization\n",
    "\n",
    "    server = smtplib.SMTP('smtp.gmail.com',587)\n",
    "    server.starttls()\n",
    "    server.login(sender_address,password)\n",
    "\n",
    "#   draft message body\n",
    "    \n",
    "    msg = MIMEText(msg)\n",
    "    msg['Subject'] = subject\n",
    "    msg['From'] = sender_address\n",
    "    msg['To'] = 'jayantparteti2@gmail.com'\n",
    "    recipents = ['jayantparteti2@gmail.com','jayantparteti2@gmail.com','abhishekgupta1863@gmail.com','abhishekgupta18632@gmail.com']\n",
    "#     Set Message as Importance\n",
    "    msg.set_param('importance','high value')\n",
    "    server.sendmail(sender_address,recipents,msg.as_string())\n",
    "send_email()\n"
   ]
  },
  {
   "cell_type": "code",
   "execution_count": null,
   "metadata": {},
   "outputs": [],
   "source": []
  }
 ],
 "metadata": {
  "kernelspec": {
   "display_name": "Python 3",
   "language": "python",
   "name": "python3"
  },
  "language_info": {
   "codemirror_mode": {
    "name": "ipython",
    "version": 3
   },
   "file_extension": ".py",
   "mimetype": "text/x-python",
   "name": "python",
   "nbconvert_exporter": "python",
   "pygments_lexer": "ipython3",
   "version": "3.7.3"
  }
 },
 "nbformat": 4,
 "nbformat_minor": 2
}
